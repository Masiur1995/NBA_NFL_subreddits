{
 "cells": [
  {
   "cell_type": "code",
   "execution_count": 1,
   "metadata": {},
   "outputs": [],
   "source": [
    "# Load data collection libraries\n",
    "import requests\n",
    "import time\n",
    "import pandas as pd\n",
    "\n",
    "# Load text processing libraries\n",
    "from sklearn.feature_extraction.text import CountVectorizer, TfidfVectorizer, HashingVectorizer\n",
    "from sklearn.feature_extraction import stop_words\n",
    "from sklearn.naive_bayes import MultinomialNB\n",
    "from nltk.corpus import stopwords\n",
    "import matplotlib.pyplot as plt\n",
    "from nltk.stem import WordNetLemmatizer\n",
    "from nltk.tokenize import RegexpTokenizer\n",
    "from nltk.stem.porter import PorterStemmer\n",
    "%matplotlib inline"
   ]
  },
  {
   "cell_type": "code",
   "execution_count": 2,
   "metadata": {},
   "outputs": [],
   "source": [
    "# Define URL and username\n",
    "url_nba= \"https://www.reddit.com/r/nba.json\" # This is the subreddit link for NBA\n",
    "url_nfl= \"https://www.reddit.com/r/nfl.json\"\n",
    "headers = {\"User-agent\": 'Masiur-Abik'}      # header to prevent 429 error"
   ]
  },
  {
   "cell_type": "code",
   "execution_count": 3,
   "metadata": {},
   "outputs": [],
   "source": [
    "# Function to pull subreddit posts\n",
    "def get_subreddit(url, n_pulls):    \n",
    "\n",
    "    # Create empty templates\n",
    "    posts = []\n",
    "    after = None\n",
    "\n",
    "    # Create a loop that does max 25 requests per pull\n",
    "    for pull_num in range(n_pulls):\n",
    "        print(\"Pulling data attempted\", pull_num+1,\"time(s)\")\n",
    "\n",
    "        if after == None:\n",
    "            new_url = url                 # base case\n",
    "        else:\n",
    "            new_url = url+\"?after=\"+after # subsequent iterations\n",
    "\n",
    "        res = requests.get(new_url, headers=headers)\n",
    "\n",
    "        if res.status_code == 200:\n",
    "            subreddit_json = res.json()                      # Pull JSON\n",
    "            posts.extend(subreddit_json['data']['children']) # Get subreddit posts\n",
    "            after = subreddit_json['data']['after']          # 'after' = ID of the last post in this iteration\n",
    "        else:\n",
    "            print(\"We've run into an error. The status code is:\", res.status_code)\n",
    "            break\n",
    "\n",
    "        time.sleep(1)\n",
    "        \n",
    "    return(posts)"
   ]
  },
  {
   "cell_type": "code",
   "execution_count": 4,
   "metadata": {
    "scrolled": true
   },
   "outputs": [
    {
     "name": "stdout",
     "output_type": "stream",
     "text": [
      "Pulling data attempted 1 time(s)\n",
      "Pulling data attempted 2 time(s)\n",
      "Pulling data attempted 3 time(s)\n",
      "Pulling data attempted 4 time(s)\n",
      "Pulling data attempted 5 time(s)\n",
      "Pulling data attempted 6 time(s)\n",
      "Pulling data attempted 7 time(s)\n",
      "Pulling data attempted 8 time(s)\n",
      "Pulling data attempted 9 time(s)\n",
      "Pulling data attempted 10 time(s)\n",
      "Pulling data attempted 11 time(s)\n",
      "Pulling data attempted 12 time(s)\n",
      "Pulling data attempted 13 time(s)\n",
      "Pulling data attempted 14 time(s)\n",
      "Pulling data attempted 15 time(s)\n",
      "Pulling data attempted 16 time(s)\n",
      "Pulling data attempted 17 time(s)\n",
      "Pulling data attempted 18 time(s)\n",
      "Pulling data attempted 19 time(s)\n",
      "Pulling data attempted 20 time(s)\n",
      "Pulling data attempted 21 time(s)\n",
      "Pulling data attempted 22 time(s)\n",
      "Pulling data attempted 23 time(s)\n",
      "Pulling data attempted 24 time(s)\n",
      "Pulling data attempted 25 time(s)\n",
      "Pulling data attempted 26 time(s)\n",
      "Pulling data attempted 27 time(s)\n",
      "Pulling data attempted 28 time(s)\n",
      "Pulling data attempted 29 time(s)\n",
      "Pulling data attempted 30 time(s)\n",
      "Pulling data attempted 31 time(s)\n",
      "Pulling data attempted 32 time(s)\n",
      "Pulling data attempted 33 time(s)\n",
      "Pulling data attempted 34 time(s)\n",
      "Pulling data attempted 35 time(s)\n",
      "Pulling data attempted 36 time(s)\n",
      "Pulling data attempted 37 time(s)\n",
      "Pulling data attempted 38 time(s)\n",
      "Pulling data attempted 39 time(s)\n",
      "Pulling data attempted 40 time(s)\n"
     ]
    }
   ],
   "source": [
    "nba = get_subreddit(url_nba, n_pulls = 40)\n"
   ]
  },
  {
   "cell_type": "code",
   "execution_count": 5,
   "metadata": {},
   "outputs": [
    {
     "name": "stdout",
     "output_type": "stream",
     "text": [
      "Pulling data attempted 1 time(s)\n",
      "Pulling data attempted 2 time(s)\n",
      "Pulling data attempted 3 time(s)\n",
      "Pulling data attempted 4 time(s)\n",
      "Pulling data attempted 5 time(s)\n",
      "Pulling data attempted 6 time(s)\n",
      "Pulling data attempted 7 time(s)\n",
      "Pulling data attempted 8 time(s)\n",
      "Pulling data attempted 9 time(s)\n",
      "Pulling data attempted 10 time(s)\n",
      "Pulling data attempted 11 time(s)\n",
      "Pulling data attempted 12 time(s)\n",
      "Pulling data attempted 13 time(s)\n",
      "Pulling data attempted 14 time(s)\n",
      "Pulling data attempted 15 time(s)\n",
      "Pulling data attempted 16 time(s)\n",
      "Pulling data attempted 17 time(s)\n",
      "Pulling data attempted 18 time(s)\n",
      "Pulling data attempted 19 time(s)\n",
      "Pulling data attempted 20 time(s)\n",
      "Pulling data attempted 21 time(s)\n",
      "Pulling data attempted 22 time(s)\n",
      "Pulling data attempted 23 time(s)\n",
      "Pulling data attempted 24 time(s)\n",
      "Pulling data attempted 25 time(s)\n",
      "Pulling data attempted 26 time(s)\n",
      "Pulling data attempted 27 time(s)\n",
      "Pulling data attempted 28 time(s)\n",
      "Pulling data attempted 29 time(s)\n",
      "Pulling data attempted 30 time(s)\n",
      "Pulling data attempted 31 time(s)\n",
      "Pulling data attempted 32 time(s)\n",
      "Pulling data attempted 33 time(s)\n",
      "Pulling data attempted 34 time(s)\n",
      "Pulling data attempted 35 time(s)\n",
      "Pulling data attempted 36 time(s)\n",
      "Pulling data attempted 37 time(s)\n",
      "Pulling data attempted 38 time(s)\n",
      "Pulling data attempted 39 time(s)\n",
      "Pulling data attempted 40 time(s)\n"
     ]
    }
   ],
   "source": [
    "nfl = get_subreddit(url_nfl, n_pulls = 40)\n",
    "\n"
   ]
  },
  {
   "cell_type": "markdown",
   "metadata": {},
   "source": [
    "Now that we've extracted our data, lets take a look at what our data looks like!"
   ]
  },
  {
   "cell_type": "code",
   "execution_count": 6,
   "metadata": {},
   "outputs": [
    {
     "data": {
      "text/plain": [
       "{'kind': 't3',\n",
       " 'data': {'approved_at_utc': None,\n",
       "  'subreddit': 'nba',\n",
       "  'selftext': \"# Today's Games:\\n\\n|Tip-off|Away||Home||GDT|PGT|\\n|:--|:--|:-:|:--|--:|:-:|:-:|\\n|8:00 PM ET|[Indiana Pacers](/r/pacers)|&gt;!135!&lt; at &gt;!134!&lt;|[Atlanta Hawks](/r/atlantahawks)|FINAL|||\\n|8:00 PM ET|[Miami Heat](/r/heat)|&gt;!94!&lt; at &gt;!113!&lt;|[Brooklyn Nets](/r/gonets)|FINAL||[(Link)](https://reddit.com/r/nba/comments/bbulae)|\\n|8:00 PM ET|[Orlando Magic](/r/orlandomagic)|&gt;!122!&lt; at &gt;!114!&lt;|[Charlotte Hornets](/r/charlottehornets)|FINAL||[(Link)](https://reddit.com/r/nba/comments/bburm0)|\\n|8:00 PM ET|[Detroit Pistons](/r/detroitpistons)|&gt;!115!&lt; at &gt;!89!&lt;|[New York Knicks](/r/nyknicks)|FINAL||[(Link)](https://reddit.com/r/nba/comments/bbuovm)|\\n|8:00 PM ET|[Chicago Bulls](/r/chicagobulls)|&gt;!109!&lt; at &gt;!125!&lt;|[Philadelphia 76ers](/r/sixers)|FINAL||[(Link)](https://reddit.com/r/nba/comments/bbun65)|\\n|8:00 PM ET|[Golden State Warriors](/r/warriors)|&gt;!117!&lt; at &gt;!132!&lt;|[Memphis Grizzlies](/r/memphisgrizzlies)|FINAL||[(Link)](https://reddit.com/r/nba/comments/bbun9w)|\\n|8:00 PM ET|[Oklahoma City Thunder](/r/thunder)|&gt;!127!&lt; at &gt;!116!&lt;|[Milwaukee Bucks](/r/mkebucks)|FINAL||[(Link)](https://reddit.com/r/nba/comments/bbumsa)|\\n|8:00 PM ET|[Dallas Mavericks](/r/mavericks)|&gt;!94!&lt; at &gt;!105!&lt;|[San Antonio Spurs](/r/nbaspurs)|FINAL||[(Link)](https://reddit.com/r/nba/comments/bbuo8w)|\\n|10:30 PM ET|[Minnesota Timberwolves](/r/timberwolves)|&gt;!95!&lt; at &gt;!99!&lt;|[Denver Nuggets](/r/denvernuggets)|FINAL|[(Link)](https://reddit.com/r/nba/comments/bbu9md)|[(Link)](https://reddit.com/r/nba/comments/bbvzod)|\\n|10:30 PM ET|[Utah Jazz](/r/utahjazz)|&gt;!137!&lt; at &gt;!143!&lt;|[Los Angeles Clippers](/r/laclippers)|FINAL|[(Link)](https://reddit.com/r/nba/comments/bbutym)||\\n|10:30 PM ET|[Sacramento Kings](/r/kings)|&gt;!131!&lt; at &gt;!136!&lt;|[Portland Trail Blazers](/r/ripcity)|FINAL|[(Link)](https://reddit.com/r/nba/comments/bbu8nm)|[(Link)](https://reddit.com/r/nba/comments/bbw06c)|\\n\\n# Yesterday's Games:\\n\\n|Tip-off|Away||Home||GDT|PGT|\\n|:--|:--|:-:|:--|--:|:-:|:-:|\\n|7:00 PM ET|[Charlotte Hornets](/r/charlottehornets)|&gt;!124!&lt; at &gt;!97!&lt;|[Cleveland Cavaliers](/r/clevelandcavs)|FINAL|||\\n|7:00 PM ET|[Memphis Grizzlies](/r/memphisgrizzlies)|&gt;!93!&lt; at &gt;!100!&lt;|[Detroit Pistons](/r/detroitpistons)|FINAL|||\\n|7:00 PM ET|[Boston Celtics](/r/bostonceltics)|&gt;!116!&lt; at &gt;!110!&lt;|[Washington Wizards](/r/washingtonwizards)|FINAL|||\\n|7:30 PM ET|[Philadelphia 76ers](/r/sixers)|&gt;!99!&lt; at &gt;!122!&lt;|[Miami Heat](/r/heat)|FINAL|||\\n|8:00 PM ET|[New York Knicks](/r/nyknicks)|&gt;!96!&lt; at &gt;!86!&lt;|[Chicago Bulls](/r/chicagobulls)|FINAL|||\\n|8:00 PM ET|[Toronto Raptors](/r/torontoraptors)|&gt;!120!&lt; at &gt;!100!&lt;|[Minnesota Timberwolves](/r/timberwolves)|FINAL|||\\n|8:00 PM ET|[Golden State Warriors](/r/warriors)|&gt;!112!&lt; at &gt;!103!&lt;|[New Orleans Pelicans](/r/nolapelicans)|FINAL|||\\n|8:30 PM ET|[Phoenix Suns](/r/suns)|&gt;!109!&lt; at &gt;!120!&lt;|[Dallas Mavericks](/r/mavericks)|FINAL|||\\n|9:00 PM ET|[Denver Nuggets](/r/denvernuggets)|&gt;!108!&lt; at &gt;!118!&lt;|[Utah Jazz](/r/utahjazz)|FINAL|||\\n|9:30 PM ET|[Houston Rockets](/r/rockets)|&gt;!111!&lt; at &gt;!112!&lt;|[Oklahoma City Thunder](/r/thunder)|FINAL|||\\n|10:30 PM ET|[Portland Trail Blazers](/r/ripcity)|&gt;!104!&lt; at &gt;!101!&lt;|[Los Angeles Lakers](/r/lakers)|FINAL|||\\n\\n# Top Highlights:\\n\\n0. [Dirk gets emotional, sheds a few tears as he gets introduced for his final NBA game](https://streamable.com/k1yhj) | [(Comments)](https://reddit.com/r/nba/comments/bbtgvp)\\n\\n0. [Melo ends up with the loose ball and acts like he’s going to shoot it](https://streamable.com/1jaz3) | [(Comments)](https://reddit.com/r/nba/comments/bbujpa)\\n\\n0. [Dirk can't stand the tears before his last NBA game](https://streamable.com/93rbp) | [(Comments)](https://reddit.com/r/nba/comments/bbtthu)\\n\\n0. [Moe Harkless wins at the buzzer vs. Los Angeles Lakers - SSN](https://streamable.com/yqzec) | [(Comments)](https://reddit.com/r/nba/comments/bbhzky)\\n\\n0. [Dirk's last basket](https://streamable.com/j79ks) | [(Comments)](https://reddit.com/r/nba/comments/bbup6y)\\n\\nDaily Discussion Thread : [Rules](https://www.reddit.com/r/nba/wiki/rules#wiki_daily_discussion_thread)\",\n",
       "  'author_fullname': 't2_6vjwa',\n",
       "  'saved': False,\n",
       "  'mod_reason_title': None,\n",
       "  'gilded': 0,\n",
       "  'clicked': False,\n",
       "  'title': 'Game Threads Index + Daily Discussion (April 10, 2019)',\n",
       "  'link_flair_richtext': [],\n",
       "  'subreddit_name_prefixed': 'r/nba',\n",
       "  'hidden': False,\n",
       "  'pwls': 6,\n",
       "  'link_flair_css_class': 'index',\n",
       "  'downs': 0,\n",
       "  'parent_whitelist_status': 'all_ads',\n",
       "  'hide_score': False,\n",
       "  'name': 't3_bbn2vb',\n",
       "  'quarantine': False,\n",
       "  'link_flair_text_color': 'dark',\n",
       "  'author_flair_background_color': '',\n",
       "  'subreddit_type': 'public',\n",
       "  'ups': 56,\n",
       "  'domain': 'self.nba',\n",
       "  'media_embed': {},\n",
       "  'author_flair_template_id': None,\n",
       "  'is_original_content': False,\n",
       "  'user_reports': [],\n",
       "  'secure_media': None,\n",
       "  'is_reddit_media_domain': False,\n",
       "  'is_meta': False,\n",
       "  'category': None,\n",
       "  'secure_media_embed': {},\n",
       "  'link_flair_text': 'Index Thread',\n",
       "  'can_mod_post': False,\n",
       "  'score': 56,\n",
       "  'approved_by': None,\n",
       "  'thumbnail': '',\n",
       "  'edited': 1554962343.0,\n",
       "  'author_flair_css_class': 'NBA',\n",
       "  'author_flair_richtext': [],\n",
       "  'gildings': {'gid_1': 0, 'gid_2': 0, 'gid_3': 0},\n",
       "  'content_categories': None,\n",
       "  'is_self': True,\n",
       "  'mod_note': None,\n",
       "  'created': 1554908747.0,\n",
       "  'link_flair_type': 'text',\n",
       "  'wls': 6,\n",
       "  'banned_by': None,\n",
       "  'author_flair_type': 'text',\n",
       "  'contest_mode': False,\n",
       "  'selftext_html': '&lt;!-- SC_OFF --&gt;&lt;div class=\"md\"&gt;&lt;h1&gt;Today&amp;#39;s Games:&lt;/h1&gt;\\n\\n&lt;table&gt;&lt;thead&gt;\\n&lt;tr&gt;\\n&lt;th align=\"left\"&gt;Tip-off&lt;/th&gt;\\n&lt;th align=\"left\"&gt;Away&lt;/th&gt;\\n&lt;th align=\"center\"&gt;&lt;/th&gt;\\n&lt;th align=\"left\"&gt;Home&lt;/th&gt;\\n&lt;th align=\"right\"&gt;&lt;/th&gt;\\n&lt;th align=\"center\"&gt;GDT&lt;/th&gt;\\n&lt;th align=\"center\"&gt;PGT&lt;/th&gt;\\n&lt;/tr&gt;\\n&lt;/thead&gt;&lt;tbody&gt;\\n&lt;tr&gt;\\n&lt;td align=\"left\"&gt;8:00 PM ET&lt;/td&gt;\\n&lt;td align=\"left\"&gt;&lt;a href=\"/r/pacers\"&gt;Indiana Pacers&lt;/a&gt;&lt;/td&gt;\\n&lt;td align=\"center\"&gt;&lt;span class=\"md-spoiler-text\"&gt;135&lt;/span&gt; at &lt;span class=\"md-spoiler-text\"&gt;134&lt;/span&gt;&lt;/td&gt;\\n&lt;td align=\"left\"&gt;&lt;a href=\"/r/atlantahawks\"&gt;Atlanta Hawks&lt;/a&gt;&lt;/td&gt;\\n&lt;td align=\"right\"&gt;FINAL&lt;/td&gt;\\n&lt;td align=\"center\"&gt;&lt;/td&gt;\\n&lt;td align=\"center\"&gt;&lt;/td&gt;\\n&lt;/tr&gt;\\n&lt;tr&gt;\\n&lt;td align=\"left\"&gt;8:00 PM ET&lt;/td&gt;\\n&lt;td align=\"left\"&gt;&lt;a href=\"/r/heat\"&gt;Miami Heat&lt;/a&gt;&lt;/td&gt;\\n&lt;td align=\"center\"&gt;&lt;span class=\"md-spoiler-text\"&gt;94&lt;/span&gt; at &lt;span class=\"md-spoiler-text\"&gt;113&lt;/span&gt;&lt;/td&gt;\\n&lt;td align=\"left\"&gt;&lt;a href=\"/r/gonets\"&gt;Brooklyn Nets&lt;/a&gt;&lt;/td&gt;\\n&lt;td align=\"right\"&gt;FINAL&lt;/td&gt;\\n&lt;td align=\"center\"&gt;&lt;/td&gt;\\n&lt;td align=\"center\"&gt;&lt;a href=\"https://reddit.com/r/nba/comments/bbulae\"&gt;(Link)&lt;/a&gt;&lt;/td&gt;\\n&lt;/tr&gt;\\n&lt;tr&gt;\\n&lt;td align=\"left\"&gt;8:00 PM ET&lt;/td&gt;\\n&lt;td align=\"left\"&gt;&lt;a href=\"/r/orlandomagic\"&gt;Orlando Magic&lt;/a&gt;&lt;/td&gt;\\n&lt;td align=\"center\"&gt;&lt;span class=\"md-spoiler-text\"&gt;122&lt;/span&gt; at &lt;span class=\"md-spoiler-text\"&gt;114&lt;/span&gt;&lt;/td&gt;\\n&lt;td align=\"left\"&gt;&lt;a href=\"/r/charlottehornets\"&gt;Charlotte Hornets&lt;/a&gt;&lt;/td&gt;\\n&lt;td align=\"right\"&gt;FINAL&lt;/td&gt;\\n&lt;td align=\"center\"&gt;&lt;/td&gt;\\n&lt;td align=\"center\"&gt;&lt;a href=\"https://reddit.com/r/nba/comments/bburm0\"&gt;(Link)&lt;/a&gt;&lt;/td&gt;\\n&lt;/tr&gt;\\n&lt;tr&gt;\\n&lt;td align=\"left\"&gt;8:00 PM ET&lt;/td&gt;\\n&lt;td align=\"left\"&gt;&lt;a href=\"/r/detroitpistons\"&gt;Detroit Pistons&lt;/a&gt;&lt;/td&gt;\\n&lt;td align=\"center\"&gt;&lt;span class=\"md-spoiler-text\"&gt;115&lt;/span&gt; at &lt;span class=\"md-spoiler-text\"&gt;89&lt;/span&gt;&lt;/td&gt;\\n&lt;td align=\"left\"&gt;&lt;a href=\"/r/nyknicks\"&gt;New York Knicks&lt;/a&gt;&lt;/td&gt;\\n&lt;td align=\"right\"&gt;FINAL&lt;/td&gt;\\n&lt;td align=\"center\"&gt;&lt;/td&gt;\\n&lt;td align=\"center\"&gt;&lt;a href=\"https://reddit.com/r/nba/comments/bbuovm\"&gt;(Link)&lt;/a&gt;&lt;/td&gt;\\n&lt;/tr&gt;\\n&lt;tr&gt;\\n&lt;td align=\"left\"&gt;8:00 PM ET&lt;/td&gt;\\n&lt;td align=\"left\"&gt;&lt;a href=\"/r/chicagobulls\"&gt;Chicago Bulls&lt;/a&gt;&lt;/td&gt;\\n&lt;td align=\"center\"&gt;&lt;span class=\"md-spoiler-text\"&gt;109&lt;/span&gt; at &lt;span class=\"md-spoiler-text\"&gt;125&lt;/span&gt;&lt;/td&gt;\\n&lt;td align=\"left\"&gt;&lt;a href=\"/r/sixers\"&gt;Philadelphia 76ers&lt;/a&gt;&lt;/td&gt;\\n&lt;td align=\"right\"&gt;FINAL&lt;/td&gt;\\n&lt;td align=\"center\"&gt;&lt;/td&gt;\\n&lt;td align=\"center\"&gt;&lt;a href=\"https://reddit.com/r/nba/comments/bbun65\"&gt;(Link)&lt;/a&gt;&lt;/td&gt;\\n&lt;/tr&gt;\\n&lt;tr&gt;\\n&lt;td align=\"left\"&gt;8:00 PM ET&lt;/td&gt;\\n&lt;td align=\"left\"&gt;&lt;a href=\"/r/warriors\"&gt;Golden State Warriors&lt;/a&gt;&lt;/td&gt;\\n&lt;td align=\"center\"&gt;&lt;span class=\"md-spoiler-text\"&gt;117&lt;/span&gt; at &lt;span class=\"md-spoiler-text\"&gt;132&lt;/span&gt;&lt;/td&gt;\\n&lt;td align=\"left\"&gt;&lt;a href=\"/r/memphisgrizzlies\"&gt;Memphis Grizzlies&lt;/a&gt;&lt;/td&gt;\\n&lt;td align=\"right\"&gt;FINAL&lt;/td&gt;\\n&lt;td align=\"center\"&gt;&lt;/td&gt;\\n&lt;td align=\"center\"&gt;&lt;a href=\"https://reddit.com/r/nba/comments/bbun9w\"&gt;(Link)&lt;/a&gt;&lt;/td&gt;\\n&lt;/tr&gt;\\n&lt;tr&gt;\\n&lt;td align=\"left\"&gt;8:00 PM ET&lt;/td&gt;\\n&lt;td align=\"left\"&gt;&lt;a href=\"/r/thunder\"&gt;Oklahoma City Thunder&lt;/a&gt;&lt;/td&gt;\\n&lt;td align=\"center\"&gt;&lt;span class=\"md-spoiler-text\"&gt;127&lt;/span&gt; at &lt;span class=\"md-spoiler-text\"&gt;116&lt;/span&gt;&lt;/td&gt;\\n&lt;td align=\"left\"&gt;&lt;a href=\"/r/mkebucks\"&gt;Milwaukee Bucks&lt;/a&gt;&lt;/td&gt;\\n&lt;td align=\"right\"&gt;FINAL&lt;/td&gt;\\n&lt;td align=\"center\"&gt;&lt;/td&gt;\\n&lt;td align=\"center\"&gt;&lt;a href=\"https://reddit.com/r/nba/comments/bbumsa\"&gt;(Link)&lt;/a&gt;&lt;/td&gt;\\n&lt;/tr&gt;\\n&lt;tr&gt;\\n&lt;td align=\"left\"&gt;8:00 PM ET&lt;/td&gt;\\n&lt;td align=\"left\"&gt;&lt;a href=\"/r/mavericks\"&gt;Dallas Mavericks&lt;/a&gt;&lt;/td&gt;\\n&lt;td align=\"center\"&gt;&lt;span class=\"md-spoiler-text\"&gt;94&lt;/span&gt; at &lt;span class=\"md-spoiler-text\"&gt;105&lt;/span&gt;&lt;/td&gt;\\n&lt;td align=\"left\"&gt;&lt;a href=\"/r/nbaspurs\"&gt;San Antonio Spurs&lt;/a&gt;&lt;/td&gt;\\n&lt;td align=\"right\"&gt;FINAL&lt;/td&gt;\\n&lt;td align=\"center\"&gt;&lt;/td&gt;\\n&lt;td align=\"center\"&gt;&lt;a href=\"https://reddit.com/r/nba/comments/bbuo8w\"&gt;(Link)&lt;/a&gt;&lt;/td&gt;\\n&lt;/tr&gt;\\n&lt;tr&gt;\\n&lt;td align=\"left\"&gt;10:30 PM ET&lt;/td&gt;\\n&lt;td align=\"left\"&gt;&lt;a href=\"/r/timberwolves\"&gt;Minnesota Timberwolves&lt;/a&gt;&lt;/td&gt;\\n&lt;td align=\"center\"&gt;&lt;span class=\"md-spoiler-text\"&gt;95&lt;/span&gt; at &lt;span class=\"md-spoiler-text\"&gt;99&lt;/span&gt;&lt;/td&gt;\\n&lt;td align=\"left\"&gt;&lt;a href=\"/r/denvernuggets\"&gt;Denver Nuggets&lt;/a&gt;&lt;/td&gt;\\n&lt;td align=\"right\"&gt;FINAL&lt;/td&gt;\\n&lt;td align=\"center\"&gt;&lt;a href=\"https://reddit.com/r/nba/comments/bbu9md\"&gt;(Link)&lt;/a&gt;&lt;/td&gt;\\n&lt;td align=\"center\"&gt;&lt;a href=\"https://reddit.com/r/nba/comments/bbvzod\"&gt;(Link)&lt;/a&gt;&lt;/td&gt;\\n&lt;/tr&gt;\\n&lt;tr&gt;\\n&lt;td align=\"left\"&gt;10:30 PM ET&lt;/td&gt;\\n&lt;td align=\"left\"&gt;&lt;a href=\"/r/utahjazz\"&gt;Utah Jazz&lt;/a&gt;&lt;/td&gt;\\n&lt;td align=\"center\"&gt;&lt;span class=\"md-spoiler-text\"&gt;137&lt;/span&gt; at &lt;span class=\"md-spoiler-text\"&gt;143&lt;/span&gt;&lt;/td&gt;\\n&lt;td align=\"left\"&gt;&lt;a href=\"/r/laclippers\"&gt;Los Angeles Clippers&lt;/a&gt;&lt;/td&gt;\\n&lt;td align=\"right\"&gt;FINAL&lt;/td&gt;\\n&lt;td align=\"center\"&gt;&lt;a href=\"https://reddit.com/r/nba/comments/bbutym\"&gt;(Link)&lt;/a&gt;&lt;/td&gt;\\n&lt;td align=\"center\"&gt;&lt;/td&gt;\\n&lt;/tr&gt;\\n&lt;tr&gt;\\n&lt;td align=\"left\"&gt;10:30 PM ET&lt;/td&gt;\\n&lt;td align=\"left\"&gt;&lt;a href=\"/r/kings\"&gt;Sacramento Kings&lt;/a&gt;&lt;/td&gt;\\n&lt;td align=\"center\"&gt;&lt;span class=\"md-spoiler-text\"&gt;131&lt;/span&gt; at &lt;span class=\"md-spoiler-text\"&gt;136&lt;/span&gt;&lt;/td&gt;\\n&lt;td align=\"left\"&gt;&lt;a href=\"/r/ripcity\"&gt;Portland Trail Blazers&lt;/a&gt;&lt;/td&gt;\\n&lt;td align=\"right\"&gt;FINAL&lt;/td&gt;\\n&lt;td align=\"center\"&gt;&lt;a href=\"https://reddit.com/r/nba/comments/bbu8nm\"&gt;(Link)&lt;/a&gt;&lt;/td&gt;\\n&lt;td align=\"center\"&gt;&lt;a href=\"https://reddit.com/r/nba/comments/bbw06c\"&gt;(Link)&lt;/a&gt;&lt;/td&gt;\\n&lt;/tr&gt;\\n&lt;/tbody&gt;&lt;/table&gt;\\n\\n&lt;h1&gt;Yesterday&amp;#39;s Games:&lt;/h1&gt;\\n\\n&lt;table&gt;&lt;thead&gt;\\n&lt;tr&gt;\\n&lt;th align=\"left\"&gt;Tip-off&lt;/th&gt;\\n&lt;th align=\"left\"&gt;Away&lt;/th&gt;\\n&lt;th align=\"center\"&gt;&lt;/th&gt;\\n&lt;th align=\"left\"&gt;Home&lt;/th&gt;\\n&lt;th align=\"right\"&gt;&lt;/th&gt;\\n&lt;th align=\"center\"&gt;GDT&lt;/th&gt;\\n&lt;th align=\"center\"&gt;PGT&lt;/th&gt;\\n&lt;/tr&gt;\\n&lt;/thead&gt;&lt;tbody&gt;\\n&lt;tr&gt;\\n&lt;td align=\"left\"&gt;7:00 PM ET&lt;/td&gt;\\n&lt;td align=\"left\"&gt;&lt;a href=\"/r/charlottehornets\"&gt;Charlotte Hornets&lt;/a&gt;&lt;/td&gt;\\n&lt;td align=\"center\"&gt;&lt;span class=\"md-spoiler-text\"&gt;124&lt;/span&gt; at &lt;span class=\"md-spoiler-text\"&gt;97&lt;/span&gt;&lt;/td&gt;\\n&lt;td align=\"left\"&gt;&lt;a href=\"/r/clevelandcavs\"&gt;Cleveland Cavaliers&lt;/a&gt;&lt;/td&gt;\\n&lt;td align=\"right\"&gt;FINAL&lt;/td&gt;\\n&lt;td align=\"center\"&gt;&lt;/td&gt;\\n&lt;td align=\"center\"&gt;&lt;/td&gt;\\n&lt;/tr&gt;\\n&lt;tr&gt;\\n&lt;td align=\"left\"&gt;7:00 PM ET&lt;/td&gt;\\n&lt;td align=\"left\"&gt;&lt;a href=\"/r/memphisgrizzlies\"&gt;Memphis Grizzlies&lt;/a&gt;&lt;/td&gt;\\n&lt;td align=\"center\"&gt;&lt;span class=\"md-spoiler-text\"&gt;93&lt;/span&gt; at &lt;span class=\"md-spoiler-text\"&gt;100&lt;/span&gt;&lt;/td&gt;\\n&lt;td align=\"left\"&gt;&lt;a href=\"/r/detroitpistons\"&gt;Detroit Pistons&lt;/a&gt;&lt;/td&gt;\\n&lt;td align=\"right\"&gt;FINAL&lt;/td&gt;\\n&lt;td align=\"center\"&gt;&lt;/td&gt;\\n&lt;td align=\"center\"&gt;&lt;/td&gt;\\n&lt;/tr&gt;\\n&lt;tr&gt;\\n&lt;td align=\"left\"&gt;7:00 PM ET&lt;/td&gt;\\n&lt;td align=\"left\"&gt;&lt;a href=\"/r/bostonceltics\"&gt;Boston Celtics&lt;/a&gt;&lt;/td&gt;\\n&lt;td align=\"center\"&gt;&lt;span class=\"md-spoiler-text\"&gt;116&lt;/span&gt; at &lt;span class=\"md-spoiler-text\"&gt;110&lt;/span&gt;&lt;/td&gt;\\n&lt;td align=\"left\"&gt;&lt;a href=\"/r/washingtonwizards\"&gt;Washington Wizards&lt;/a&gt;&lt;/td&gt;\\n&lt;td align=\"right\"&gt;FINAL&lt;/td&gt;\\n&lt;td align=\"center\"&gt;&lt;/td&gt;\\n&lt;td align=\"center\"&gt;&lt;/td&gt;\\n&lt;/tr&gt;\\n&lt;tr&gt;\\n&lt;td align=\"left\"&gt;7:30 PM ET&lt;/td&gt;\\n&lt;td align=\"left\"&gt;&lt;a href=\"/r/sixers\"&gt;Philadelphia 76ers&lt;/a&gt;&lt;/td&gt;\\n&lt;td align=\"center\"&gt;&lt;span class=\"md-spoiler-text\"&gt;99&lt;/span&gt; at &lt;span class=\"md-spoiler-text\"&gt;122&lt;/span&gt;&lt;/td&gt;\\n&lt;td align=\"left\"&gt;&lt;a href=\"/r/heat\"&gt;Miami Heat&lt;/a&gt;&lt;/td&gt;\\n&lt;td align=\"right\"&gt;FINAL&lt;/td&gt;\\n&lt;td align=\"center\"&gt;&lt;/td&gt;\\n&lt;td align=\"center\"&gt;&lt;/td&gt;\\n&lt;/tr&gt;\\n&lt;tr&gt;\\n&lt;td align=\"left\"&gt;8:00 PM ET&lt;/td&gt;\\n&lt;td align=\"left\"&gt;&lt;a href=\"/r/nyknicks\"&gt;New York Knicks&lt;/a&gt;&lt;/td&gt;\\n&lt;td align=\"center\"&gt;&lt;span class=\"md-spoiler-text\"&gt;96&lt;/span&gt; at &lt;span class=\"md-spoiler-text\"&gt;86&lt;/span&gt;&lt;/td&gt;\\n&lt;td align=\"left\"&gt;&lt;a href=\"/r/chicagobulls\"&gt;Chicago Bulls&lt;/a&gt;&lt;/td&gt;\\n&lt;td align=\"right\"&gt;FINAL&lt;/td&gt;\\n&lt;td align=\"center\"&gt;&lt;/td&gt;\\n&lt;td align=\"center\"&gt;&lt;/td&gt;\\n&lt;/tr&gt;\\n&lt;tr&gt;\\n&lt;td align=\"left\"&gt;8:00 PM ET&lt;/td&gt;\\n&lt;td align=\"left\"&gt;&lt;a href=\"/r/torontoraptors\"&gt;Toronto Raptors&lt;/a&gt;&lt;/td&gt;\\n&lt;td align=\"center\"&gt;&lt;span class=\"md-spoiler-text\"&gt;120&lt;/span&gt; at &lt;span class=\"md-spoiler-text\"&gt;100&lt;/span&gt;&lt;/td&gt;\\n&lt;td align=\"left\"&gt;&lt;a href=\"/r/timberwolves\"&gt;Minnesota Timberwolves&lt;/a&gt;&lt;/td&gt;\\n&lt;td align=\"right\"&gt;FINAL&lt;/td&gt;\\n&lt;td align=\"center\"&gt;&lt;/td&gt;\\n&lt;td align=\"center\"&gt;&lt;/td&gt;\\n&lt;/tr&gt;\\n&lt;tr&gt;\\n&lt;td align=\"left\"&gt;8:00 PM ET&lt;/td&gt;\\n&lt;td align=\"left\"&gt;&lt;a href=\"/r/warriors\"&gt;Golden State Warriors&lt;/a&gt;&lt;/td&gt;\\n&lt;td align=\"center\"&gt;&lt;span class=\"md-spoiler-text\"&gt;112&lt;/span&gt; at &lt;span class=\"md-spoiler-text\"&gt;103&lt;/span&gt;&lt;/td&gt;\\n&lt;td align=\"left\"&gt;&lt;a href=\"/r/nolapelicans\"&gt;New Orleans Pelicans&lt;/a&gt;&lt;/td&gt;\\n&lt;td align=\"right\"&gt;FINAL&lt;/td&gt;\\n&lt;td align=\"center\"&gt;&lt;/td&gt;\\n&lt;td align=\"center\"&gt;&lt;/td&gt;\\n&lt;/tr&gt;\\n&lt;tr&gt;\\n&lt;td align=\"left\"&gt;8:30 PM ET&lt;/td&gt;\\n&lt;td align=\"left\"&gt;&lt;a href=\"/r/suns\"&gt;Phoenix Suns&lt;/a&gt;&lt;/td&gt;\\n&lt;td align=\"center\"&gt;&lt;span class=\"md-spoiler-text\"&gt;109&lt;/span&gt; at &lt;span class=\"md-spoiler-text\"&gt;120&lt;/span&gt;&lt;/td&gt;\\n&lt;td align=\"left\"&gt;&lt;a href=\"/r/mavericks\"&gt;Dallas Mavericks&lt;/a&gt;&lt;/td&gt;\\n&lt;td align=\"right\"&gt;FINAL&lt;/td&gt;\\n&lt;td align=\"center\"&gt;&lt;/td&gt;\\n&lt;td align=\"center\"&gt;&lt;/td&gt;\\n&lt;/tr&gt;\\n&lt;tr&gt;\\n&lt;td align=\"left\"&gt;9:00 PM ET&lt;/td&gt;\\n&lt;td align=\"left\"&gt;&lt;a href=\"/r/denvernuggets\"&gt;Denver Nuggets&lt;/a&gt;&lt;/td&gt;\\n&lt;td align=\"center\"&gt;&lt;span class=\"md-spoiler-text\"&gt;108&lt;/span&gt; at &lt;span class=\"md-spoiler-text\"&gt;118&lt;/span&gt;&lt;/td&gt;\\n&lt;td align=\"left\"&gt;&lt;a href=\"/r/utahjazz\"&gt;Utah Jazz&lt;/a&gt;&lt;/td&gt;\\n&lt;td align=\"right\"&gt;FINAL&lt;/td&gt;\\n&lt;td align=\"center\"&gt;&lt;/td&gt;\\n&lt;td align=\"center\"&gt;&lt;/td&gt;\\n&lt;/tr&gt;\\n&lt;tr&gt;\\n&lt;td align=\"left\"&gt;9:30 PM ET&lt;/td&gt;\\n&lt;td align=\"left\"&gt;&lt;a href=\"/r/rockets\"&gt;Houston Rockets&lt;/a&gt;&lt;/td&gt;\\n&lt;td align=\"center\"&gt;&lt;span class=\"md-spoiler-text\"&gt;111&lt;/span&gt; at &lt;span class=\"md-spoiler-text\"&gt;112&lt;/span&gt;&lt;/td&gt;\\n&lt;td align=\"left\"&gt;&lt;a href=\"/r/thunder\"&gt;Oklahoma City Thunder&lt;/a&gt;&lt;/td&gt;\\n&lt;td align=\"right\"&gt;FINAL&lt;/td&gt;\\n&lt;td align=\"center\"&gt;&lt;/td&gt;\\n&lt;td align=\"center\"&gt;&lt;/td&gt;\\n&lt;/tr&gt;\\n&lt;tr&gt;\\n&lt;td align=\"left\"&gt;10:30 PM ET&lt;/td&gt;\\n&lt;td align=\"left\"&gt;&lt;a href=\"/r/ripcity\"&gt;Portland Trail Blazers&lt;/a&gt;&lt;/td&gt;\\n&lt;td align=\"center\"&gt;&lt;span class=\"md-spoiler-text\"&gt;104&lt;/span&gt; at &lt;span class=\"md-spoiler-text\"&gt;101&lt;/span&gt;&lt;/td&gt;\\n&lt;td align=\"left\"&gt;&lt;a href=\"/r/lakers\"&gt;Los Angeles Lakers&lt;/a&gt;&lt;/td&gt;\\n&lt;td align=\"right\"&gt;FINAL&lt;/td&gt;\\n&lt;td align=\"center\"&gt;&lt;/td&gt;\\n&lt;td align=\"center\"&gt;&lt;/td&gt;\\n&lt;/tr&gt;\\n&lt;/tbody&gt;&lt;/table&gt;\\n\\n&lt;h1&gt;Top Highlights:&lt;/h1&gt;\\n\\n&lt;ol&gt;\\n&lt;li&gt;&lt;p&gt;&lt;a href=\"https://streamable.com/k1yhj\"&gt;Dirk gets emotional, sheds a few tears as he gets introduced for his final NBA game&lt;/a&gt; | &lt;a href=\"https://reddit.com/r/nba/comments/bbtgvp\"&gt;(Comments)&lt;/a&gt;&lt;/p&gt;&lt;/li&gt;\\n&lt;li&gt;&lt;p&gt;&lt;a href=\"https://streamable.com/1jaz3\"&gt;Melo ends up with the loose ball and acts like he’s going to shoot it&lt;/a&gt; | &lt;a href=\"https://reddit.com/r/nba/comments/bbujpa\"&gt;(Comments)&lt;/a&gt;&lt;/p&gt;&lt;/li&gt;\\n&lt;li&gt;&lt;p&gt;&lt;a href=\"https://streamable.com/93rbp\"&gt;Dirk can&amp;#39;t stand the tears before his last NBA game&lt;/a&gt; | &lt;a href=\"https://reddit.com/r/nba/comments/bbtthu\"&gt;(Comments)&lt;/a&gt;&lt;/p&gt;&lt;/li&gt;\\n&lt;li&gt;&lt;p&gt;&lt;a href=\"https://streamable.com/yqzec\"&gt;Moe Harkless wins at the buzzer vs. Los Angeles Lakers - SSN&lt;/a&gt; | &lt;a href=\"https://reddit.com/r/nba/comments/bbhzky\"&gt;(Comments)&lt;/a&gt;&lt;/p&gt;&lt;/li&gt;\\n&lt;li&gt;&lt;p&gt;&lt;a href=\"https://streamable.com/j79ks\"&gt;Dirk&amp;#39;s last basket&lt;/a&gt; | &lt;a href=\"https://reddit.com/r/nba/comments/bbup6y\"&gt;(Comments)&lt;/a&gt;&lt;/p&gt;&lt;/li&gt;\\n&lt;/ol&gt;\\n\\n&lt;p&gt;Daily Discussion Thread : &lt;a href=\"https://www.reddit.com/r/nba/wiki/rules#wiki_daily_discussion_thread\"&gt;Rules&lt;/a&gt;&lt;/p&gt;\\n&lt;/div&gt;&lt;!-- SC_ON --&gt;',\n",
       "  'likes': None,\n",
       "  'suggested_sort': 'new',\n",
       "  'banned_at_utc': None,\n",
       "  'view_count': None,\n",
       "  'archived': False,\n",
       "  'no_follow': False,\n",
       "  'is_crosspostable': False,\n",
       "  'pinned': False,\n",
       "  'over_18': False,\n",
       "  'media_only': False,\n",
       "  'can_gild': False,\n",
       "  'spoiler': False,\n",
       "  'locked': False,\n",
       "  'author_flair_text': '[NBA] Scott Foster',\n",
       "  'visited': False,\n",
       "  'num_reports': None,\n",
       "  'distinguished': None,\n",
       "  'subreddit_id': 't5_2qo4s',\n",
       "  'mod_reason_by': None,\n",
       "  'removal_reason': None,\n",
       "  'link_flair_background_color': '',\n",
       "  'id': 'bbn2vb',\n",
       "  'is_robot_indexable': True,\n",
       "  'report_reasons': None,\n",
       "  'author': 'NBA_MOD',\n",
       "  'num_crossposts': 0,\n",
       "  'num_comments': 116,\n",
       "  'send_replies': False,\n",
       "  'mod_reports': [],\n",
       "  'author_patreon_flair': False,\n",
       "  'author_flair_text_color': 'dark',\n",
       "  'permalink': '/r/nba/comments/bbn2vb/game_threads_index_daily_discussion_april_10_2019/',\n",
       "  'whitelist_status': 'all_ads',\n",
       "  'stickied': True,\n",
       "  'url': 'https://www.reddit.com/r/nba/comments/bbn2vb/game_threads_index_daily_discussion_april_10_2019/',\n",
       "  'subreddit_subscribers': 2119064,\n",
       "  'created_utc': 1554908747.0,\n",
       "  'media': None,\n",
       "  'is_video': False}}"
      ]
     },
     "execution_count": 6,
     "metadata": {},
     "output_type": "execute_result"
    }
   ],
   "source": [
    "nba[0]"
   ]
  },
  {
   "cell_type": "code",
   "execution_count": 7,
   "metadata": {
    "scrolled": true
   },
   "outputs": [
    {
     "name": "stdout",
     "output_type": "stream",
     "text": [
      "The datatype of our data is a: <class 'dict'>\n"
     ]
    }
   ],
   "source": [
    "print('The datatype of our data is a:', type(nba[0]))\n"
   ]
  },
  {
   "cell_type": "code",
   "execution_count": 8,
   "metadata": {},
   "outputs": [
    {
     "name": "stdout",
     "output_type": "stream",
     "text": [
      "Number of dictionaries: 2\n"
     ]
    }
   ],
   "source": [
    "print('Number of dictionaries:', len(nba[0]))"
   ]
  },
  {
   "cell_type": "code",
   "execution_count": 9,
   "metadata": {},
   "outputs": [
    {
     "name": "stdout",
     "output_type": "stream",
     "text": [
      "The two keys in our dictionary are: dict_keys(['kind', 'data'])\n"
     ]
    }
   ],
   "source": [
    "print('The two keys in our dictionary are:', nba[0].keys())"
   ]
  },
  {
   "cell_type": "code",
   "execution_count": 10,
   "metadata": {},
   "outputs": [
    {
     "name": "stdout",
     "output_type": "stream",
     "text": [
      "t3\n"
     ]
    }
   ],
   "source": [
    "print(nba[0]['kind'])\n",
    "\n",
    "# The \"kind\" dictionary really doesn't have any information. \n",
    "# Instead, data is a dictionary inside of the \"kind\" dictionary, which is the data we are interested in."
   ]
  },
  {
   "cell_type": "code",
   "execution_count": 42,
   "metadata": {},
   "outputs": [],
   "source": [
    "def df_posts(post_list):\n",
    "    post_titles = []\n",
    "    dupes = []\n",
    "\n",
    "    for i in range(len(post_list)):\n",
    "        if post_list[i]['data']['name'] in dupes:\n",
    "            pass\n",
    "        else:\n",
    "            title_dict = {}\n",
    "            if type(post_list[i]['data']['selftext']) == str:\n",
    "                title_dict['title']= post_list[i]['data']['title'] + '\\n' + post_list[i]['data']['selftext']\n",
    "\n",
    "            else:\n",
    "                title_dict['title'] = post_list[i]['data']['title']\n",
    "            title_dict['subreddit'] = post_list[i]['data']['subreddit']\n",
    "            title_dict['Length of Title'] = len(post_list[i]['data']['title'])\n",
    "            title_dict['ID'] = post_list[i]['data']['name']\n",
    "            post_titles.append(title_dict)\n",
    "            dupes.append(post_list[i]['data']['name'])\n",
    "    return pd.DataFrame(post_titles)"
   ]
  },
  {
   "cell_type": "code",
   "execution_count": 43,
   "metadata": {},
   "outputs": [],
   "source": [
    "nba_df= df_posts(nba)\n",
    "nfl_df= df_posts(nfl)"
   ]
  },
  {
   "cell_type": "code",
   "execution_count": 44,
   "metadata": {
    "scrolled": true
   },
   "outputs": [
    {
     "name": "stdout",
     "output_type": "stream",
     "text": [
      "<class 'pandas.core.frame.DataFrame'>\n",
      "RangeIndex: 834 entries, 0 to 833\n",
      "Data columns (total 4 columns):\n",
      "ID                 834 non-null object\n",
      "Length of Title    834 non-null int64\n",
      "subreddit          834 non-null object\n",
      "title              834 non-null object\n",
      "dtypes: int64(1), object(3)\n",
      "memory usage: 26.1+ KB\n"
     ]
    }
   ],
   "source": [
    "nba_df.info()"
   ]
  },
  {
   "cell_type": "code",
   "execution_count": 45,
   "metadata": {
    "scrolled": false
   },
   "outputs": [
    {
     "name": "stdout",
     "output_type": "stream",
     "text": [
      "<class 'pandas.core.frame.DataFrame'>\n",
      "RangeIndex: 888 entries, 0 to 887\n",
      "Data columns (total 4 columns):\n",
      "ID                 888 non-null object\n",
      "Length of Title    888 non-null int64\n",
      "subreddit          888 non-null object\n",
      "title              888 non-null object\n",
      "dtypes: int64(1), object(3)\n",
      "memory usage: 27.8+ KB\n"
     ]
    }
   ],
   "source": [
    "nfl_df.info()"
   ]
  },
  {
   "cell_type": "code",
   "execution_count": 46,
   "metadata": {},
   "outputs": [],
   "source": [
    "nba_df['ID'].fillna('NaN', inplace=True)\n",
    "nfl_df['ID'].fillna('NaN', inplace=True)\n",
    "\n",
    "\n",
    "#Imputing 0's for missing values."
   ]
  },
  {
   "cell_type": "code",
   "execution_count": 47,
   "metadata": {
    "scrolled": true
   },
   "outputs": [
    {
     "data": {
      "text/html": [
       "<div>\n",
       "<style scoped>\n",
       "    .dataframe tbody tr th:only-of-type {\n",
       "        vertical-align: middle;\n",
       "    }\n",
       "\n",
       "    .dataframe tbody tr th {\n",
       "        vertical-align: top;\n",
       "    }\n",
       "\n",
       "    .dataframe thead th {\n",
       "        text-align: right;\n",
       "    }\n",
       "</style>\n",
       "<table border=\"1\" class=\"dataframe\">\n",
       "  <thead>\n",
       "    <tr style=\"text-align: right;\">\n",
       "      <th></th>\n",
       "      <th>ID</th>\n",
       "      <th>Length of Title</th>\n",
       "      <th>subreddit</th>\n",
       "      <th>title</th>\n",
       "    </tr>\n",
       "  </thead>\n",
       "  <tbody>\n",
       "    <tr>\n",
       "      <th>0</th>\n",
       "      <td>t3_bbn2vb</td>\n",
       "      <td>54</td>\n",
       "      <td>nba</td>\n",
       "      <td>Game Threads Index + Daily Discussion (April 1...</td>\n",
       "    </tr>\n",
       "    <tr>\n",
       "      <th>1</th>\n",
       "      <td>t3_bbp5v6</td>\n",
       "      <td>60</td>\n",
       "      <td>nba</td>\n",
       "      <td>I’m Chris Haynes, senior NBA insider for Yahoo...</td>\n",
       "    </tr>\n",
       "    <tr>\n",
       "      <th>2</th>\n",
       "      <td>t3_bbujpa</td>\n",
       "      <td>69</td>\n",
       "      <td>nba</td>\n",
       "      <td>Melo ends up with the loose ball and acts like...</td>\n",
       "    </tr>\n",
       "    <tr>\n",
       "      <th>3</th>\n",
       "      <td>t3_bbup6y</td>\n",
       "      <td>18</td>\n",
       "      <td>nba</td>\n",
       "      <td>Dirk's last basket\\n</td>\n",
       "    </tr>\n",
       "    <tr>\n",
       "      <th>4</th>\n",
       "      <td>t3_bbuco3</td>\n",
       "      <td>102</td>\n",
       "      <td>nba</td>\n",
       "      <td>With Wade's assist to Haslem, he records a tri...</td>\n",
       "    </tr>\n",
       "  </tbody>\n",
       "</table>\n",
       "</div>"
      ],
      "text/plain": [
       "          ID  Length of Title subreddit  \\\n",
       "0  t3_bbn2vb               54       nba   \n",
       "1  t3_bbp5v6               60       nba   \n",
       "2  t3_bbujpa               69       nba   \n",
       "3  t3_bbup6y               18       nba   \n",
       "4  t3_bbuco3              102       nba   \n",
       "\n",
       "                                               title  \n",
       "0  Game Threads Index + Daily Discussion (April 1...  \n",
       "1  I’m Chris Haynes, senior NBA insider for Yahoo...  \n",
       "2  Melo ends up with the loose ball and acts like...  \n",
       "3                               Dirk's last basket\\n  \n",
       "4  With Wade's assist to Haslem, he records a tri...  "
      ]
     },
     "execution_count": 47,
     "metadata": {},
     "output_type": "execute_result"
    }
   ],
   "source": [
    "nba_df.head()"
   ]
  },
  {
   "cell_type": "code",
   "execution_count": 48,
   "metadata": {},
   "outputs": [
    {
     "data": {
      "text/html": [
       "<div>\n",
       "<style scoped>\n",
       "    .dataframe tbody tr th:only-of-type {\n",
       "        vertical-align: middle;\n",
       "    }\n",
       "\n",
       "    .dataframe tbody tr th {\n",
       "        vertical-align: top;\n",
       "    }\n",
       "\n",
       "    .dataframe thead th {\n",
       "        text-align: right;\n",
       "    }\n",
       "</style>\n",
       "<table border=\"1\" class=\"dataframe\">\n",
       "  <thead>\n",
       "    <tr style=\"text-align: right;\">\n",
       "      <th></th>\n",
       "      <th>ID</th>\n",
       "      <th>Length of Title</th>\n",
       "      <th>subreddit</th>\n",
       "      <th>title</th>\n",
       "    </tr>\n",
       "  </thead>\n",
       "  <tbody>\n",
       "    <tr>\n",
       "      <th>0</th>\n",
       "      <td>t3_bbnpth</td>\n",
       "      <td>22</td>\n",
       "      <td>nfl</td>\n",
       "      <td>Water Cooler Wednesday\\nWelcome to today's ope...</td>\n",
       "    </tr>\n",
       "    <tr>\n",
       "      <th>1</th>\n",
       "      <td>t3_bbteni</td>\n",
       "      <td>135</td>\n",
       "      <td>nfl</td>\n",
       "      <td>AMA announcement: Andrae Perry, Data Analyst f...</td>\n",
       "    </tr>\n",
       "    <tr>\n",
       "      <th>2</th>\n",
       "      <td>t3_bbvlo8</td>\n",
       "      <td>150</td>\n",
       "      <td>nfl</td>\n",
       "      <td>[Todd Gurley II] Man it’s so Dope how the NBA ...</td>\n",
       "    </tr>\n",
       "    <tr>\n",
       "      <th>3</th>\n",
       "      <td>t3_bbpdkt</td>\n",
       "      <td>117</td>\n",
       "      <td>nfl</td>\n",
       "      <td>Jack Del Rio on AB: \"I love the talent, but An...</td>\n",
       "    </tr>\n",
       "    <tr>\n",
       "      <th>4</th>\n",
       "      <td>t3_bbr8s1</td>\n",
       "      <td>263</td>\n",
       "      <td>nfl</td>\n",
       "      <td>[Garafolo] Source: The #Giants are finalizing ...</td>\n",
       "    </tr>\n",
       "  </tbody>\n",
       "</table>\n",
       "</div>"
      ],
      "text/plain": [
       "          ID  Length of Title subreddit  \\\n",
       "0  t3_bbnpth               22       nfl   \n",
       "1  t3_bbteni              135       nfl   \n",
       "2  t3_bbvlo8              150       nfl   \n",
       "3  t3_bbpdkt              117       nfl   \n",
       "4  t3_bbr8s1              263       nfl   \n",
       "\n",
       "                                               title  \n",
       "0  Water Cooler Wednesday\\nWelcome to today's ope...  \n",
       "1  AMA announcement: Andrae Perry, Data Analyst f...  \n",
       "2  [Todd Gurley II] Man it’s so Dope how the NBA ...  \n",
       "3  Jack Del Rio on AB: \"I love the talent, but An...  \n",
       "4  [Garafolo] Source: The #Giants are finalizing ...  "
      ]
     },
     "execution_count": 48,
     "metadata": {},
     "output_type": "execute_result"
    }
   ],
   "source": [
    "nfl_df.head()"
   ]
  },
  {
   "cell_type": "code",
   "execution_count": 49,
   "metadata": {},
   "outputs": [
    {
     "data": {
      "text/plain": [
       "(834, 4)"
      ]
     },
     "execution_count": 49,
     "metadata": {},
     "output_type": "execute_result"
    }
   ],
   "source": [
    "nba_df.shape"
   ]
  },
  {
   "cell_type": "code",
   "execution_count": 50,
   "metadata": {
    "scrolled": false
   },
   "outputs": [
    {
     "data": {
      "text/plain": [
       "(888, 4)"
      ]
     },
     "execution_count": 50,
     "metadata": {},
     "output_type": "execute_result"
    }
   ],
   "source": [
    "nfl_df.shape"
   ]
  },
  {
   "cell_type": "code",
   "execution_count": 51,
   "metadata": {
    "scrolled": true
   },
   "outputs": [
    {
     "data": {
      "text/html": [
       "<div>\n",
       "<style scoped>\n",
       "    .dataframe tbody tr th:only-of-type {\n",
       "        vertical-align: middle;\n",
       "    }\n",
       "\n",
       "    .dataframe tbody tr th {\n",
       "        vertical-align: top;\n",
       "    }\n",
       "\n",
       "    .dataframe thead th {\n",
       "        text-align: right;\n",
       "    }\n",
       "</style>\n",
       "<table border=\"1\" class=\"dataframe\">\n",
       "  <thead>\n",
       "    <tr style=\"text-align: right;\">\n",
       "      <th></th>\n",
       "      <th>Length of Title</th>\n",
       "    </tr>\n",
       "  </thead>\n",
       "  <tbody>\n",
       "    <tr>\n",
       "      <th>count</th>\n",
       "      <td>834.000000</td>\n",
       "    </tr>\n",
       "    <tr>\n",
       "      <th>mean</th>\n",
       "      <td>88.565947</td>\n",
       "    </tr>\n",
       "    <tr>\n",
       "      <th>std</th>\n",
       "      <td>54.791659</td>\n",
       "    </tr>\n",
       "    <tr>\n",
       "      <th>min</th>\n",
       "      <td>8.000000</td>\n",
       "    </tr>\n",
       "    <tr>\n",
       "      <th>25%</th>\n",
       "      <td>51.000000</td>\n",
       "    </tr>\n",
       "    <tr>\n",
       "      <th>50%</th>\n",
       "      <td>75.000000</td>\n",
       "    </tr>\n",
       "    <tr>\n",
       "      <th>75%</th>\n",
       "      <td>106.000000</td>\n",
       "    </tr>\n",
       "    <tr>\n",
       "      <th>max</th>\n",
       "      <td>300.000000</td>\n",
       "    </tr>\n",
       "  </tbody>\n",
       "</table>\n",
       "</div>"
      ],
      "text/plain": [
       "       Length of Title\n",
       "count       834.000000\n",
       "mean         88.565947\n",
       "std          54.791659\n",
       "min           8.000000\n",
       "25%          51.000000\n",
       "50%          75.000000\n",
       "75%         106.000000\n",
       "max         300.000000"
      ]
     },
     "execution_count": 51,
     "metadata": {},
     "output_type": "execute_result"
    }
   ],
   "source": [
    "nba_df.describe()"
   ]
  },
  {
   "cell_type": "code",
   "execution_count": 52,
   "metadata": {
    "scrolled": true
   },
   "outputs": [
    {
     "data": {
      "text/html": [
       "<div>\n",
       "<style scoped>\n",
       "    .dataframe tbody tr th:only-of-type {\n",
       "        vertical-align: middle;\n",
       "    }\n",
       "\n",
       "    .dataframe tbody tr th {\n",
       "        vertical-align: top;\n",
       "    }\n",
       "\n",
       "    .dataframe thead th {\n",
       "        text-align: right;\n",
       "    }\n",
       "</style>\n",
       "<table border=\"1\" class=\"dataframe\">\n",
       "  <thead>\n",
       "    <tr style=\"text-align: right;\">\n",
       "      <th></th>\n",
       "      <th>Length of Title</th>\n",
       "    </tr>\n",
       "  </thead>\n",
       "  <tbody>\n",
       "    <tr>\n",
       "      <th>count</th>\n",
       "      <td>888.000000</td>\n",
       "    </tr>\n",
       "    <tr>\n",
       "      <th>mean</th>\n",
       "      <td>103.110360</td>\n",
       "    </tr>\n",
       "    <tr>\n",
       "      <th>std</th>\n",
       "      <td>68.417951</td>\n",
       "    </tr>\n",
       "    <tr>\n",
       "      <th>min</th>\n",
       "      <td>4.000000</td>\n",
       "    </tr>\n",
       "    <tr>\n",
       "      <th>25%</th>\n",
       "      <td>55.000000</td>\n",
       "    </tr>\n",
       "    <tr>\n",
       "      <th>50%</th>\n",
       "      <td>79.000000</td>\n",
       "    </tr>\n",
       "    <tr>\n",
       "      <th>75%</th>\n",
       "      <td>138.000000</td>\n",
       "    </tr>\n",
       "    <tr>\n",
       "      <th>max</th>\n",
       "      <td>294.000000</td>\n",
       "    </tr>\n",
       "  </tbody>\n",
       "</table>\n",
       "</div>"
      ],
      "text/plain": [
       "       Length of Title\n",
       "count       888.000000\n",
       "mean        103.110360\n",
       "std          68.417951\n",
       "min           4.000000\n",
       "25%          55.000000\n",
       "50%          79.000000\n",
       "75%         138.000000\n",
       "max         294.000000"
      ]
     },
     "execution_count": 52,
     "metadata": {},
     "output_type": "execute_result"
    }
   ],
   "source": [
    "nfl_df.describe()"
   ]
  },
  {
   "cell_type": "code",
   "execution_count": 53,
   "metadata": {
    "scrolled": false
   },
   "outputs": [],
   "source": [
    "merged_df = pd.concat([nba_df[['title','subreddit']], nfl_df[['title', 'subreddit']]], axis = 0)"
   ]
  },
  {
   "cell_type": "code",
   "execution_count": 54,
   "metadata": {},
   "outputs": [
    {
     "data": {
      "text/html": [
       "<div>\n",
       "<style scoped>\n",
       "    .dataframe tbody tr th:only-of-type {\n",
       "        vertical-align: middle;\n",
       "    }\n",
       "\n",
       "    .dataframe tbody tr th {\n",
       "        vertical-align: top;\n",
       "    }\n",
       "\n",
       "    .dataframe thead th {\n",
       "        text-align: right;\n",
       "    }\n",
       "</style>\n",
       "<table border=\"1\" class=\"dataframe\">\n",
       "  <thead>\n",
       "    <tr style=\"text-align: right;\">\n",
       "      <th></th>\n",
       "      <th>title</th>\n",
       "      <th>subreddit</th>\n",
       "    </tr>\n",
       "  </thead>\n",
       "  <tbody>\n",
       "    <tr>\n",
       "      <th>883</th>\n",
       "      <td>[Ruiter] \"I'm excited and I think it's going t...</td>\n",
       "      <td>nfl</td>\n",
       "    </tr>\n",
       "    <tr>\n",
       "      <th>884</th>\n",
       "      <td>[NFL Officiating] “Referee John Parry has anno...</td>\n",
       "      <td>nfl</td>\n",
       "    </tr>\n",
       "    <tr>\n",
       "      <th>885</th>\n",
       "      <td>[Stroud] Bucs DT Gerald McCoy did not attend t...</td>\n",
       "      <td>nfl</td>\n",
       "    </tr>\n",
       "    <tr>\n",
       "      <th>886</th>\n",
       "      <td>[Schefter] With RB Duke Johnson, a no-show whe...</td>\n",
       "      <td>nfl</td>\n",
       "    </tr>\n",
       "    <tr>\n",
       "      <th>887</th>\n",
       "      <td>/r/NFL Top 100 List\\nHey everyone, Welcome to ...</td>\n",
       "      <td>nfl</td>\n",
       "    </tr>\n",
       "  </tbody>\n",
       "</table>\n",
       "</div>"
      ],
      "text/plain": [
       "                                                 title subreddit\n",
       "883  [Ruiter] \"I'm excited and I think it's going t...       nfl\n",
       "884  [NFL Officiating] “Referee John Parry has anno...       nfl\n",
       "885  [Stroud] Bucs DT Gerald McCoy did not attend t...       nfl\n",
       "886  [Schefter] With RB Duke Johnson, a no-show whe...       nfl\n",
       "887  /r/NFL Top 100 List\\nHey everyone, Welcome to ...       nfl"
      ]
     },
     "execution_count": 54,
     "metadata": {},
     "output_type": "execute_result"
    }
   ],
   "source": [
    "merged_df.tail()"
   ]
  },
  {
   "cell_type": "code",
   "execution_count": 55,
   "metadata": {
    "scrolled": true
   },
   "outputs": [
    {
     "data": {
      "text/html": [
       "<div>\n",
       "<style scoped>\n",
       "    .dataframe tbody tr th:only-of-type {\n",
       "        vertical-align: middle;\n",
       "    }\n",
       "\n",
       "    .dataframe tbody tr th {\n",
       "        vertical-align: top;\n",
       "    }\n",
       "\n",
       "    .dataframe thead th {\n",
       "        text-align: right;\n",
       "    }\n",
       "</style>\n",
       "<table border=\"1\" class=\"dataframe\">\n",
       "  <thead>\n",
       "    <tr style=\"text-align: right;\">\n",
       "      <th></th>\n",
       "      <th>title</th>\n",
       "      <th>subreddit</th>\n",
       "    </tr>\n",
       "  </thead>\n",
       "  <tbody>\n",
       "    <tr>\n",
       "      <th>0</th>\n",
       "      <td>Game Threads Index + Daily Discussion (April 1...</td>\n",
       "      <td>nba</td>\n",
       "    </tr>\n",
       "    <tr>\n",
       "      <th>1</th>\n",
       "      <td>I’m Chris Haynes, senior NBA insider for Yahoo...</td>\n",
       "      <td>nba</td>\n",
       "    </tr>\n",
       "    <tr>\n",
       "      <th>2</th>\n",
       "      <td>Melo ends up with the loose ball and acts like...</td>\n",
       "      <td>nba</td>\n",
       "    </tr>\n",
       "    <tr>\n",
       "      <th>3</th>\n",
       "      <td>Dirk's last basket\\n</td>\n",
       "      <td>nba</td>\n",
       "    </tr>\n",
       "    <tr>\n",
       "      <th>4</th>\n",
       "      <td>With Wade's assist to Haslem, he records a tri...</td>\n",
       "      <td>nba</td>\n",
       "    </tr>\n",
       "  </tbody>\n",
       "</table>\n",
       "</div>"
      ],
      "text/plain": [
       "                                               title subreddit\n",
       "0  Game Threads Index + Daily Discussion (April 1...       nba\n",
       "1  I’m Chris Haynes, senior NBA insider for Yahoo...       nba\n",
       "2  Melo ends up with the loose ball and acts like...       nba\n",
       "3                               Dirk's last basket\\n       nba\n",
       "4  With Wade's assist to Haslem, he records a tri...       nba"
      ]
     },
     "execution_count": 55,
     "metadata": {},
     "output_type": "execute_result"
    }
   ],
   "source": [
    "merged_df.head()"
   ]
  },
  {
   "cell_type": "code",
   "execution_count": 56,
   "metadata": {},
   "outputs": [],
   "source": [
    "merged_df.to_csv(\"./merged_df.csv\")"
   ]
  },
  {
   "cell_type": "markdown",
   "metadata": {},
   "source": [
    "# Natural Language Processing (NLP)"
   ]
  },
  {
   "cell_type": "code",
   "execution_count": 57,
   "metadata": {},
   "outputs": [],
   "source": [
    "# Load preprocessing/modeling/evaluation libraries\n",
    "from sklearn.pipeline import Pipeline\n",
    "from sklearn.model_selection import cross_val_score, train_test_split, GridSearchCV\n",
    "from sklearn.ensemble import RandomForestClassifier\n",
    "from sklearn.linear_model import LogisticRegression, RidgeCV, LassoCV\n",
    "from sklearn import svm\n",
    "from sklearn.metrics import confusion_matrix\n",
    "from sklearn.neighbors import KNeighborsClassifier\n",
    "from sklearn.ensemble import  RandomForestClassifier\n",
    "from sklearn.model_selection import GridSearchCV\n",
    "from sklearn.tree import DecisionTreeClassifier\n",
    "from sklearn.metrics import accuracy_score, precision_score, recall_score"
   ]
  },
  {
   "cell_type": "code",
   "execution_count": 58,
   "metadata": {},
   "outputs": [],
   "source": [
    "merged_df['subreddit'] = merged_df['subreddit'].map({'nfl': 0, 'nba': 1})"
   ]
  },
  {
   "cell_type": "code",
   "execution_count": 59,
   "metadata": {},
   "outputs": [],
   "source": [
    "X = merged_df['title']\n",
    "y = merged_df['subreddit']"
   ]
  },
  {
   "cell_type": "code",
   "execution_count": 60,
   "metadata": {},
   "outputs": [],
   "source": [
    "X_train, X_test, y_train, y_test = train_test_split(X, y, random_state = 42, stratify = y)"
   ]
  },
  {
   "cell_type": "code",
   "execution_count": 61,
   "metadata": {
    "scrolled": true
   },
   "outputs": [
    {
     "data": {
      "text/plain": [
       "0    0.515679\n",
       "1    0.484321\n",
       "Name: subreddit, dtype: float64"
      ]
     },
     "execution_count": 61,
     "metadata": {},
     "output_type": "execute_result"
    }
   ],
   "source": [
    "merged_df['subreddit'].value_counts(normalize=True)\n",
    "\n",
    "#Baseline value!"
   ]
  },
  {
   "cell_type": "code",
   "execution_count": 62,
   "metadata": {},
   "outputs": [],
   "source": [
    "additional_english_stop = ['www', 'things', 'does', 'x200b', 'amp',\n",
    "                          'just', 'like', 'https', 'com',\n",
    "                          'says', 'say', 'like', 'did', 'this', '00','10', '11', '12','13', '14', '15',\n",
    "                           '16', '17', '18', '19','20',\n",
    "                           'games','season', 'time', 'player', 'gt', 'reddit', 'players', 'team']"
   ]
  },
  {
   "cell_type": "code",
   "execution_count": 63,
   "metadata": {
    "scrolled": true
   },
   "outputs": [],
   "source": [
    "new_stop_list = stop_words.ENGLISH_STOP_WORDS.union(additional_english_stop)"
   ]
  },
  {
   "cell_type": "code",
   "execution_count": 64,
   "metadata": {},
   "outputs": [],
   "source": [
    "# Function to count words\n",
    "def word_counter(df):\n",
    "    \n",
    "    # Count Vectorize\n",
    "    cvec = CountVectorizer(stop_words = new_stop_list)\n",
    "    cvec_1 = cvec.fit_transform(df['title'])\n",
    "    cvec_1 = pd.DataFrame(cvec_1.toarray(), columns= cvec.get_feature_names())\n",
    "    word_count = cvec_1.sum().sort_values(ascending=False)\n",
    "    \n",
    "    return word_count"
   ]
  },
  {
   "cell_type": "code",
   "execution_count": 65,
   "metadata": {
    "scrolled": true
   },
   "outputs": [
    {
     "data": {
      "image/png": "[encoded data removed]",
      "text/plain": [
       "<Figure size 432x288 with 1 Axes>"
      ]
     },
     "metadata": {
      "needs_background": "light"
     },
     "output_type": "display_data"
    }
   ],
   "source": [
    "# Digging to find the top ten words in the NBA subreddit\n",
    "nba_count = pd.DataFrame(word_counter(nba_df), columns=[\"Frequency\"])\n",
    "\n",
    "# Set up a horizontal bar chart to show the 10 most frequent words\n",
    "nba10 = nba_count.head(10)\n",
    "nba10.sort_values('Frequency').plot(kind = \"barh\")\n",
    "plt.title(\"Top 10 Words in NBA subreddit\")\n",
    "plt.xlabel(\"Count of Word (Frequency)\")\n",
    "plt.ylabel(\"Word\")\n",
    "plt.show();"
   ]
  },
  {
   "cell_type": "code",
   "execution_count": 66,
   "metadata": {
    "scrolled": false
   },
   "outputs": [
    {
     "data": {
      "image/png": "[encoded data removed]",
      "text/plain": [
       "<Figure size 432x288 with 1 Axes>"
      ]
     },
     "metadata": {
      "needs_background": "light"
     },
     "output_type": "display_data"
    }
   ],
   "source": [
    "# Digging to find the top ten words in the NBA subreddit\n",
    "nfl_count = pd.DataFrame(word_counter(nfl_df), columns=[\"Frequency\"])\n",
    "\n",
    "# Visualize\n",
    "nfl_10 = nfl_count.head(10)\n",
    "nfl_10.sort_values('Frequency').plot(kind = \"barh\")\n",
    "plt.title(\"Top 10 Words in NFL subreddit\")\n",
    "plt.xlabel(\"Count of Word (Frequency)\")\n",
    "plt.ylabel(\"Word\")\n",
    "plt.show();"
   ]
  },
  {
   "cell_type": "markdown",
   "metadata": {},
   "source": [
    "## Logistic Regression Model (Count Vectorizer)"
   ]
  },
  {
   "cell_type": "code",
   "execution_count": 67,
   "metadata": {
    "scrolled": true
   },
   "outputs": [
    {
     "name": "stderr",
     "output_type": "stream",
     "text": [
      "/Users/masiurabik/anaconda3/lib/python3.6/site-packages/sklearn/linear_model/logistic.py:433: FutureWarning: Default solver will be changed to 'lbfgs' in 0.22. Specify a solver to silence this warning.\n",
      "  FutureWarning)\n"
     ]
    },
    {
     "name": "stdout",
     "output_type": "stream",
     "text": [
      "Best score of our model with gridsearched parameters: 0.9078233927188226\n",
      "Ideal parameters: {'cvec__max_features': 3500, 'cvec__ngram_range': (1, 2), 'lr__penalty': 'l2', 'lr__random_state': 42}\n",
      "Score of our train model: 0.9969016266460109\n",
      "Score of our test model: 0.9373549883990719\n"
     ]
    }
   ],
   "source": [
    "log_pipe = Pipeline([\n",
    "('cvec', CountVectorizer()),\n",
    "('lr', LogisticRegression())\n",
    "])\n",
    "\n",
    "\n",
    "log_pipe_params = {\n",
    "'cvec__max_features': [2500, 3000, 3500],\n",
    "'cvec__ngram_range':  [(1,1), (1,2), (2,2)],\n",
    "'lr__penalty':        ['l1','l2'],\n",
    "\"lr__random_state\":   [42, 30]\n",
    "}\n",
    "\n",
    "\n",
    "gs_log = GridSearchCV(log_pipe, param_grid=log_pipe_params, cv=3)\n",
    "gs_log.fit(X_train, y_train)\n",
    "print('Best score of our model with gridsearched parameters:',gs_log.best_score_)\n",
    "print('Ideal parameters:',gs_log.best_params_)\n",
    "print('Score of our train model:', gs_log.score(X_train, y_train))\n",
    "print('Score of our test model:', gs_log.score(X_test, y_test))"
   ]
  },
  {
   "cell_type": "markdown",
   "metadata": {},
   "source": [
    "## Multinomial Naive Bayes (Count Vectorizer)"
   ]
  },
  {
   "cell_type": "code",
   "execution_count": 68,
   "metadata": {
    "scrolled": true
   },
   "outputs": [
    {
     "name": "stdout",
     "output_type": "stream",
     "text": [
      "Best score of our model with gridsearched parameters: 0.9465530596436871\n",
      "Ideal parameters: {'cvec__max_features': 3000, 'cvec__ngram_range': (1, 1), 'nb__alpha': 0.1}\n",
      "Score of our train model: 0.9736638264910922\n",
      "Score of our test model: 0.9605568445475638\n"
     ]
    }
   ],
   "source": [
    "nb_pipe = Pipeline([\n",
    "    ('cvec', CountVectorizer()),\n",
    "    ('nb', MultinomialNB())\n",
    "])\n",
    "\n",
    "\n",
    "nb_pipe_params = {\n",
    "'cvec__max_features': [2500, 3000, 3500],\n",
    "'cvec__ngram_range':  [(1,1), (1,2), (2,2)],\n",
    "'nb__alpha':          [0.1,0.5,1]\n",
    "}\n",
    "\n",
    "\n",
    "gs_nb = GridSearchCV(nb_pipe, param_grid=nb_pipe_params, cv=3)\n",
    "gs_nb.fit(X_train, y_train)\n",
    "print('Best score of our model with gridsearched parameters:',gs_nb.best_score_)\n",
    "print('Ideal parameters:',gs_nb.best_params_)\n",
    "print('Score of our train model:', gs_nb.score(X_train, y_train))\n",
    "print('Score of our test model:', gs_nb.score(X_test, y_test))"
   ]
  },
  {
   "cell_type": "markdown",
   "metadata": {},
   "source": [
    "## Random Forest Model (Tfi-df Vectorizer)"
   ]
  },
  {
   "cell_type": "code",
   "execution_count": 38,
   "metadata": {},
   "outputs": [
    {
     "name": "stdout",
     "output_type": "stream",
     "text": [
      "Best score of our model with gridsearched parameters: 0.9465530596436871\n",
      "Ideal parameters: {'rc__max_depth': 30, 'rc__n_estimators': 20, 'tfidf__max_features': None, 'tfidf__ngram_range': (1, 1), 'tfidf__norm': 'l2'}\n",
      "Score of our train model: 0.9519752130131681\n",
      "Score of our test model: 0.8932714617169374\n"
     ]
    }
   ],
   "source": [
    "rc_pipe = Pipeline(steps=[('tfidf', TfidfVectorizer()),\n",
    "                       ('rc', RandomForestClassifier())\n",
    "])\n",
    "\n",
    "\n",
    "rc_pipe_params = {\n",
    "\"tfidf__max_features\":[None],\n",
    "\"tfidf__ngram_range\": [(1,1), (1,2)],\n",
    "\"tfidf__norm\":        ['l1', 'l2'],\n",
    "\"rc__n_estimators\":   [10, 20, 20],\n",
    "\"rc__max_depth\":      [10, 20, 30],\n",
    "}\n",
    "\n",
    "\n",
    "gs_rc = GridSearchCV(rc_pipe, param_grid=rc_pipe_params, cv=3)\n",
    "gs_rc.fit(X_train, y_train)\n",
    "print('Best score of our model with gridsearched parameters:',gs_nb.best_score_)\n",
    "print('Ideal parameters:',gs_rc.best_params_)\n",
    "print('Score of our train model:', gs_rc.score(X_train, y_train))\n",
    "print('Score of our test model:', gs_rc.score(X_test, y_test))"
   ]
  },
  {
   "cell_type": "markdown",
   "metadata": {},
   "source": [
    "## TFI-DF Support Vector Model"
   ]
  },
  {
   "cell_type": "code",
   "execution_count": null,
   "metadata": {
    "scrolled": true
   },
   "outputs": [],
   "source": [
    "vec_pipe = Pipeline(steps=[('tfidf', TfidfVectorizer()),\n",
    "                          ('svc', svm.SVC())\n",
    "                         ])\n",
    "\n",
    "vec_pipe_params = {\n",
    "\"tfidf__max_features\": [2000, 3000, 4000],\n",
    "\"tfidf__ngram_range\":  [(1,1),(1,2), (2,2)],\n",
    "\"svc__C\":              [1.0, 5.0, 15.0, 50.0],\n",
    "\"svc__kernel\":         ['rbf', 'linear', 'sigmoid'],\n",
    "\"svc__gamma\":          ['auto', 1.0, 5.0, 15.0] \n",
    "}\n",
    "\n",
    "\n",
    "\n",
    "gs_vec = GridSearchCV(vec_pipe, param_grid=vec_pipe_params, cv=3)\n",
    "gs_vec.fit(X_train, y_train)\n",
    "print('Best score of our model with gridsearched parameters:',gs_vec.best_score_)\n",
    "print('Ideal parameters:',gs_vec.best_params_)\n",
    "print('Score of our train model:', gs_vec.score(X_train, y_train))\n",
    "print('Score of our test model:', gs_vec.score(X_test, y_test))"
   ]
  },
  {
   "cell_type": "markdown",
   "metadata": {},
   "source": [
    ">From all of the classification models, our Logistic model and Naive Bayes produced the most robust scores. Between the two models however, the Logistic model peformed better because although it had a lower train score (96%), it had a smaller difference between its train and test data (93%). This difference is indicative of how overfit the model is. Lets go on to making predictions with this model!"
   ]
  },
  {
   "cell_type": "code",
   "execution_count": null,
   "metadata": {},
   "outputs": [],
   "source": [
    "def score_print(y_test, y_pred):\n",
    "    tn, fp, fn, tp = confusion_matrix(y_test, y_pred).ravel()\n",
    "    print('Accuracy:', accuracy_score(y_test, y_pred))\n",
    "    print('Misclassification:' , 1 - accuracy_score(y_test, y_pred))\n",
    "    print('Precision:', precision_score(y_test, y_pred))\n",
    "    print('Recall:', recall_score(y_test, y_pred))\n",
    "    specificity = tn / (tn + fp)\n",
    "    print('Specificity:', specificity)    \n",
    "\n",
    "score_print(y_test, y_pred_nb)"
   ]
  },
  {
   "cell_type": "code",
   "execution_count": null,
   "metadata": {},
   "outputs": [],
   "source": [
    "y_pred_nb= gs_nb.predict(X_test)\n",
    "score_print(y_test, y_pred_nb)"
   ]
  },
  {
   "cell_type": "markdown",
   "metadata": {},
   "source": [
    "- A misclassification score of 6.7% indicates the score for misclassifying the predictions into their correct classes. This is concluded to be a very low misclassification, indicative of a successful model.\n",
    "- Our recall score of 91% indicates that our model was able to predict 91% of the true positives correct.\n",
    "- Our specificity score of 95% indicates that our model was able to predict 95% of the true negatives correct. \n",
    "- A precision score of 94% indicates how well our model was able to predict the positives accurately.\n"
   ]
  },
  {
   "cell_type": "markdown",
   "metadata": {},
   "source": [
    "## Conclusion"
   ]
  },
  {
   "cell_type": "markdown",
   "metadata": {},
   "source": [
    "> After cleaning the data by adding common words (eg: season, games) to our stop words set from scikit learn, we incorporated this set of stop words into our count vectorizer. We then went forward with binarizing our target variables. This led to the final part of exploratory data analysis, which was to establish a baseline model. It was clearly evident from the baseline score (53%) that the baseline model would not predict the source of words accurately. All of our classification models produced better scores than our baseline model by a huge increment, concluding that all of our models are better than our baseline model. From all of the classification models, the naive bayes model using countvectorizer produced the most robust metrics and therefore, we will use this model to generate which website a given word came from. Although the model is slightly overfit, it is much more mitigated compared to the other models. The model can now identify which subreddit a given word derived from!"
   ]
  },
  {
   "cell_type": "code",
   "execution_count": null,
   "metadata": {},
   "outputs": [],
   "source": []
  }
 ],
 "metadata": {
  "kernelspec": {
   "display_name": "Python 3",
   "language": "python",
   "name": "python3"
  },
  "language_info": {
   "codemirror_mode": {
    "name": "ipython",
    "version": 3
   },
   "file_extension": ".py",
   "mimetype": "text/x-python",
   "name": "python",
   "nbconvert_exporter": "python",
   "pygments_lexer": "ipython3",
   "version": "3.7.3"
  }
 },
 "nbformat": 4,
 "nbformat_minor": 2
}
